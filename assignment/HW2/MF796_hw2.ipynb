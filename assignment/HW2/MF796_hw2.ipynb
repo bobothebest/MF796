{
 "cells": [
  {
   "cell_type": "markdown",
   "id": "bb6e6dda-3a78-482e-91ad-73870f5c1fff",
   "metadata": {},
   "source": [
    "## MF 796: Computational Methods of Mathematical Finance\n",
    "Professors Christopher Kelliher and Eugene Sorets Spring 2024"
   ]
  },
  {
   "cell_type": "markdown",
   "id": "a69a57de-ae13-49fe-9a30-a6e6d79a8965",
   "metadata": {},
   "source": [
    "### Problem set  2"
   ]
  },
  {
   "cell_type": "markdown",
   "id": "9864d29f-c37d-4493-9c9d-50cf03450bec",
   "metadata": {},
   "source": [
    "#### 1. What areas of finance are of most interest to you (e.g. big data, trading, portfolio management, risk management, derivative pricing, analyzing complex derivatives)?"
   ]
  },
  {
   "cell_type": "markdown",
   "id": "805ec5e7-c9d8-4e44-bf9b-1ea554a7b4e3",
   "metadata": {},
   "source": [
    "I used to be quite interested in futures, options, forex, and interest rates before, because I felt that these financial instruments can reflect the market's views on the global economic landscape relatively truthfully. After more than half a year of studying, I feel that portfolio management and risk management are very intriguing, especially when thinking about using statistical methods, financial knowledge, and algorithms to solve various real-life financial problems, which makes me feel extremely excited. I hope that my job will enable me to keep learning, while also allowing me to apply the knowledge I'm acquiring now."
   ]
  },
  {
   "cell_type": "markdown",
   "id": "bbfc1d67-5566-4340-af59-7fec25deeb79",
   "metadata": {},
   "source": [
    "#### 2. What is the primary reason for your interest in this course?"
   ]
  },
  {
   "cell_type": "markdown",
   "id": "b64d30d9-9c85-4c73-84df-2dcff7a915ad",
   "metadata": {},
   "source": [
    "Firstly, because I have an undergraduate background in statistics, I feel quite familiar and comfortable with this kind of fundamental mathematical knowledge and programming tasks. I really hope that I can understand the underlying logic of financial instruments as thoroughly as possible, which requires a solid foundation and accumulation of mathematical skills. This course introduces how various mathematical concepts are applied in financial pricing, and the assignments allow me to experience how these algorithms can be implemented via computers. It is an extremely practical course that deepens my understanding of finance."
   ]
  },
  {
   "cell_type": "markdown",
   "id": "3abfdcca-a318-4400-8023-0cdf6698a9b5",
   "metadata": {},
   "source": [
    "#### 3. List all programming languages you have used and your level of familiarity with each."
   ]
  },
  {
   "cell_type": "markdown",
   "id": "14007010-4895-4430-9ad0-b6c7d4c4653f",
   "metadata": {},
   "source": [
    "- **Python**: Proficient \n",
    "- **R**: Proficient \n",
    "- **LaTeX**: Intermediate \n",
    "- **SQL**: Intermediate \n",
    "- **C**: Intermediate \n",
    "- **Scala**: Intermediate \n",
    "- **HTML**: Intermediate "
   ]
  },
  {
   "cell_type": "markdown",
   "id": "ba148265-3cc8-4a8e-a16e-1a12ce01be04",
   "metadata": {},
   "source": [
    "#### 4. Option traders often say that when buying options we get gamma at the expense of theta.\n",
    "What do you think they mean?"
   ]
  },
  {
   "cell_type": "markdown",
   "id": "87c68864-abca-494e-8387-74bc5a5e7649",
   "metadata": {},
   "source": [
    "- **Gamma** measures the rate of change of an option's delta in relation to the price changes of the underlying asset. Delta itself measures the sensitivity of an option's price to a $1 change in the price of the underlying asset. A high gamma indicates that the delta of an option is highly sensitive to changes in the price of the underlying asset.\n",
    "\n",
    "- **Theta** measures the rate of decline of an option's price due to the passage of time, holding all else equal. It represents the time decay of an option's value.\n",
    "\n",
    "When option traders say that \"when buying options, we get gamma at the expense of theta,\" they are highlighting a trade-off between the potential for profit from price movements (gamma) and the guaranteed loss over time due to decay (theta). Buying options provides the buyer with positive gamma, which means they benefit from large price swings in the underlying asset. However, this comes with the cost of theta, or time decay, meaning the value of the option decreases as it gets closer to its expiration date, assuming no other variables change.\n",
    "\n",
    "In simpler terms, buying options can be advantageous in volatile markets where the price of the underlying asset moves significantly, as the potential gains from those movements (thanks to gamma) can outweigh the costs of time decay (theta). However, if the market does not move as expected, the time decay will erode the option's value, leading to a loss for the option holder. This is the inherent trade-off between gamma and theta when buying options."
   ]
  },
  {
   "cell_type": "markdown",
   "id": "6e17e829-6566-4184-b7d4-1e7c3565637a",
   "metadata": {},
   "source": [
    "#### 5. Evaluation of a known integral using various quadratures:\n",
    "In this problem we are going to compute the price of a European call option using various quadrature methods and compare their properties.  \n",
    "Let our European call option have 3 month expiry, strike 13, and implied vol 25%.  \n",
    "Assume the underlying is 10 now and the interest rate is 5%.  "
   ]
  },
  {
   "cell_type": "markdown",
   "id": "fe9e600c-9587-4949-ae5a-97aca58310c1",
   "metadata": {},
   "source": [
    "##### (a) Use Black-Scholes formula to compute the price of the call analytically."
   ]
  },
  {
   "cell_type": "code",
   "execution_count": 2,
   "id": "fc0e8527-5e7b-429f-bbb6-69da1e1b2de4",
   "metadata": {},
   "outputs": [
    {
     "data": {
      "text/plain": [
       "0.012042247185543142"
      ]
     },
     "execution_count": 2,
     "metadata": {},
     "output_type": "execute_result"
    }
   ],
   "source": [
    "from scipy.stats import norm\n",
    "import numpy as np\n",
    "\n",
    "# Parameters\n",
    "S0 = 10       # Current price of the underlying\n",
    "K = 13        # Strike price\n",
    "T = 3 / 12    # Time to maturity in years (3 months)\n",
    "r = 0.05      # Risk-free interest rate\n",
    "sigma = 0.25  # Volatility\n",
    "\n",
    "# Black-Scholes formula components\n",
    "d1 = (np.log(S0 / K) + (r + 0.5 * sigma**2) * T) / (sigma * np.sqrt(T))\n",
    "d2 = d1 - sigma * np.sqrt(T)\n",
    "\n",
    "# Price of the call option\n",
    "C = S0 * norm.cdf(d1) - K * np.exp(-r * T) * norm.cdf(d2)\n",
    "\n",
    "C"
   ]
  },
  {
   "cell_type": "markdown",
   "id": "6bb835eb-3f1e-4431-a99c-04103a4828ec",
   "metadata": {},
   "source": [
    "##### (b) Calculate the price of the call numerically using the following 3 quadrature methods applied to the normal cdf inside the Black-Sholes formula:\n",
    "- i. Left Riemann rule\n",
    "- ii. Midpoint rule\n",
    "- iii. Gauss nodes of your choice (say explicitly why you made that choice) \n",
    "with the number of nodes N = 5, 10, 20, 50 and compute the calculation error as a function of N for each of the methods"
   ]
  },
  {
   "cell_type": "code",
   "execution_count": 7,
   "id": "a30d3f39-e92e-4f42-8e11-29f8907a8150",
   "metadata": {},
   "outputs": [],
   "source": [
    "from scipy.special import roots_hermite\n",
    "from numpy.polynomial.hermite import hermgauss\n",
    "import scipy.integrate as integrate\n",
    "\n",
    "def normal_cdf(x):\n",
    "    \"\"\"Compute the standard normal CDF.\"\"\"\n",
    "    return (1.0 + np.erf(x / np.sqrt(2.0))) / 2.0\n",
    "\n",
    "def left_riemann_rule(f, a, b, N):\n",
    "    \"\"\"Approximate the integral of f from a to b using the Left Riemann Rule with N subintervals.\"\"\"\n",
    "    h = (b - a) / N\n",
    "    return sum(f(a + i*h) for i in range(N)) * h\n",
    "\n",
    "def midpoint_rule(f, a, b, N):\n",
    "    \"\"\"Approximate the integral of f from a to b using the Midpoint Rule with N subintervals.\"\"\"\n",
    "    h = (b - a) / N\n",
    "    return sum(f(a + (i + 0.5)*h) for i in range(N)) * h\n",
    "\n",
    "def gauss_hermite_quad(f, N):\n",
    "    \"\"\"Approximate the integral of f using Gauss-Hermite quadrature with N points.\"\"\"\n",
    "    nodes, weights = roots_hermite(N)\n",
    "    return np.sum(weights * f(nodes * np.sqrt(2)))\n",
    "\n",
    "# Parameters for numerical integration\n",
    "a = -10  # Lower bound for integration (approximation for -infinity)\n",
    "b = 10   # Upper bound for integration (approximation for infinity)\n",
    "Ns = [5, 10, 20, 50]  # Number of nodes\n",
    "\n",
    "# Standard normal PDF for numerical integration\n",
    "std_normal_pdf = lambda x: np.exp(-x**2 / 2) / np.sqrt(2 * np.pi)\n",
    "\n",
    "# Analytic N(d1) and N(d2)\n",
    "N_d1_analytic = norm.cdf(d1)\n",
    "N_d2_analytic = norm.cdf(d2)\n"
   ]
  },
  {
   "cell_type": "code",
   "execution_count": 8,
   "id": "c356c748-484c-4e53-a700-c4f614424428",
   "metadata": {},
   "outputs": [
    {
     "data": {
      "text/html": [
       "<div>\n",
       "<style scoped>\n",
       "    .dataframe tbody tr th:only-of-type {\n",
       "        vertical-align: middle;\n",
       "    }\n",
       "\n",
       "    .dataframe tbody tr th {\n",
       "        vertical-align: top;\n",
       "    }\n",
       "\n",
       "    .dataframe thead th {\n",
       "        text-align: right;\n",
       "    }\n",
       "</style>\n",
       "<table border=\"1\" class=\"dataframe\">\n",
       "  <thead>\n",
       "    <tr style=\"text-align: right;\">\n",
       "      <th></th>\n",
       "      <th>Left Riemann</th>\n",
       "      <th>Midpoint</th>\n",
       "      <th>Gauss-Hermite</th>\n",
       "    </tr>\n",
       "    <tr>\n",
       "      <th>N</th>\n",
       "      <th></th>\n",
       "      <th></th>\n",
       "      <th></th>\n",
       "    </tr>\n",
       "  </thead>\n",
       "  <tbody>\n",
       "    <tr>\n",
       "      <th>5</th>\n",
       "      <td>0.010643</td>\n",
       "      <td>0.000383</td>\n",
       "      <td>0.012042</td>\n",
       "    </tr>\n",
       "    <tr>\n",
       "      <th>10</th>\n",
       "      <td>0.005513</td>\n",
       "      <td>0.000711</td>\n",
       "      <td>0.012042</td>\n",
       "    </tr>\n",
       "    <tr>\n",
       "      <th>20</th>\n",
       "      <td>0.002401</td>\n",
       "      <td>0.000236</td>\n",
       "      <td>0.012042</td>\n",
       "    </tr>\n",
       "    <tr>\n",
       "      <th>50</th>\n",
       "      <td>0.000846</td>\n",
       "      <td>0.000040</td>\n",
       "      <td>0.012042</td>\n",
       "    </tr>\n",
       "  </tbody>\n",
       "</table>\n",
       "</div>"
      ],
      "text/plain": [
       "    Left Riemann  Midpoint  Gauss-Hermite\n",
       "N                                        \n",
       "5       0.010643  0.000383       0.012042\n",
       "10      0.005513  0.000711       0.012042\n",
       "20      0.002401  0.000236       0.012042\n",
       "50      0.000846  0.000040       0.012042"
      ]
     },
     "execution_count": 8,
     "metadata": {},
     "output_type": "execute_result"
    }
   ],
   "source": [
    "import pandas as pd\n",
    "# calculate errors for demonstration\n",
    "errors = {\n",
    "    'Left Riemann': [],\n",
    "    'Midpoint': [],\n",
    "    'Gauss-Hermite': []\n",
    "}\n",
    "\n",
    "for N in Ns:\n",
    "    # Left Riemann Rule\n",
    "    N_d1_left = left_riemann_rule(std_normal_pdf, a, d1, N)\n",
    "    N_d2_left = left_riemann_rule(std_normal_pdf, a, d2, N)\n",
    "    C_left = S0 * N_d1_left - K * np.exp(-r * T) * N_d2_left\n",
    "    errors['Left Riemann'].append(abs(C_left - C))\n",
    "    \n",
    "    # Midpoint Rule\n",
    "    N_d1_mid = midpoint_rule(std_normal_pdf, a, d1, N)\n",
    "    N_d2_mid = midpoint_rule(std_normal_pdf, a, d2, N)\n",
    "    C_mid = S0 * N_d1_mid - K * np.exp(-r * T) * N_d2_mid\n",
    "    errors['Midpoint'].append(abs(C_mid - C))\n",
    "    \n",
    "    # Gauss-Hermite Quadrature\n",
    "    N_d1_gh = gauss_hermite_quad(f, N) * np.exp(-d1**2 / 2)\n",
    "    N_d2_gh = gauss_hermite_quad(f, N) * np.exp(-d2**2 / 2)\n",
    "    C_gh = S0 * N_d1_gh - K * np.exp(-r * T) * N_d2_gh\n",
    "    errors['Gauss-Hermite'].append(abs(C_gh - C))\n",
    "\n",
    "# Create a DataFrame from the errors dictionary\n",
    "errors_df = pd.DataFrame(errors, index=Ns)\n",
    "errors_df.index.name = 'N'\n",
    "\n",
    "# Display the DataFrame to show errors for different methods across various N values\n",
    "errors_df\n"
   ]
  },
  {
   "cell_type": "markdown",
   "id": "5abbd8db-621e-4513-bf2d-41d1a33d95ab",
   "metadata": {},
   "source": [
    "##### (c) Estimate the experimental rate of convergence (i.e., as a function of N) of each method and compare it with the known theoretical estimate."
   ]
  },
  {
   "cell_type": "code",
   "execution_count": 9,
   "id": "519ab678-f7b4-4ae7-b421-cf91f543699d",
   "metadata": {},
   "outputs": [
    {
     "data": {
      "text/html": [
       "<div>\n",
       "<style scoped>\n",
       "    .dataframe tbody tr th:only-of-type {\n",
       "        vertical-align: middle;\n",
       "    }\n",
       "\n",
       "    .dataframe tbody tr th {\n",
       "        vertical-align: top;\n",
       "    }\n",
       "\n",
       "    .dataframe thead th {\n",
       "        text-align: right;\n",
       "    }\n",
       "</style>\n",
       "<table border=\"1\" class=\"dataframe\">\n",
       "  <thead>\n",
       "    <tr style=\"text-align: right;\">\n",
       "      <th></th>\n",
       "      <th>Left Riemann</th>\n",
       "      <th>Midpoint</th>\n",
       "      <th>Gauss-Hermite</th>\n",
       "    </tr>\n",
       "    <tr>\n",
       "      <th>N Range</th>\n",
       "      <th></th>\n",
       "      <th></th>\n",
       "      <th></th>\n",
       "    </tr>\n",
       "  </thead>\n",
       "  <tbody>\n",
       "    <tr>\n",
       "      <th>5 to 10</th>\n",
       "      <td>0.948998</td>\n",
       "      <td>-0.893461</td>\n",
       "      <td>0.000000e+00</td>\n",
       "    </tr>\n",
       "    <tr>\n",
       "      <th>10 to 20</th>\n",
       "      <td>1.199331</td>\n",
       "      <td>1.591301</td>\n",
       "      <td>-4.255752e-13</td>\n",
       "    </tr>\n",
       "    <tr>\n",
       "      <th>20 to 50</th>\n",
       "      <td>1.138338</td>\n",
       "      <td>1.928094</td>\n",
       "      <td>3.220564e-13</td>\n",
       "    </tr>\n",
       "  </tbody>\n",
       "</table>\n",
       "</div>"
      ],
      "text/plain": [
       "          Left Riemann  Midpoint  Gauss-Hermite\n",
       "N Range                                        \n",
       "5 to 10       0.948998 -0.893461   0.000000e+00\n",
       "10 to 20      1.199331  1.591301  -4.255752e-13\n",
       "20 to 50      1.138338  1.928094   3.220564e-13"
      ]
     },
     "execution_count": 9,
     "metadata": {},
     "output_type": "execute_result"
    }
   ],
   "source": [
    "# Calculate the experimental rate of convergence\n",
    "convergence_rates = {}\n",
    "\n",
    "for method in errors.keys():\n",
    "    rates = []\n",
    "    for i in range(1, len(Ns)):\n",
    "        N1, N2 = Ns[i-1], Ns[i]\n",
    "        e_N1, e_N2 = errors[method][i-1], errors[method][i]\n",
    "        rate = np.log(e_N1 / e_N2) / np.log(N2 / N1)\n",
    "        rates.append(rate)\n",
    "    convergence_rates[method] = rates\n",
    "\n",
    "# Create a DataFrame to display the convergence rates\n",
    "convergence_df = pd.DataFrame(convergence_rates, index=[f'{Ns[i-1]} to {Ns[i]}' for i in range(1, len(Ns))])\n",
    "convergence_df.index.name = 'N Range'\n",
    "\n",
    "convergence_df\n"
   ]
  },
  {
   "cell_type": "markdown",
   "id": "8708e51b-58af-4ac5-a6bc-07328715e869",
   "metadata": {},
   "source": [
    "##### (d) Which method is your favorite and why?"
   ]
  },
  {
   "cell_type": "markdown",
   "id": "215e1cb6-3aa1-4922-91ba-b6df577eb52a",
   "metadata": {},
   "source": [
    "### Preferred Method: Midpoint Rule\n",
    "- **Accuracy and Efficiency**: The Midpoint Rule demonstrated significantly better accuracy for a given number of nodes compared to the Left Riemann Rule, as indicated by its lower errors and higher experimental rates of convergence, especially for larger \\(N\\). This improvement in accuracy without a substantial increase in computational effort makes it highly efficient for this application.\n",
    "- **Convergence Rate**: The experimental rates of convergence for the Midpoint Rule approached or exceeded 2 for larger values of \\(N\\), suggesting quadratic convergence under the conditions of our problem. This is particularly advantageous when dealing with smooth functions, as it implies that doubling the number of intervals (and thus the computational effort) can potentially reduce the error by a factor of four.\n",
    "- **Simplicity and Applicability**: While the Gauss-Hermite Quadrature is theoretically more sophisticated and designed for high accuracy in specific cases, its application requires more complex preparation. The Midpoint Rule, on the other hand, is straightforward to implement and does not require such adjustments, making it broadly applicable to a wide range of problems."
   ]
  },
  {
   "cell_type": "code",
   "execution_count": null,
   "id": "393b0904-5357-494d-801a-84498ee4d59f",
   "metadata": {},
   "outputs": [],
   "source": []
  }
 ],
 "metadata": {
  "kernelspec": {
   "display_name": "Python 3 (ipykernel)",
   "language": "python",
   "name": "python3"
  },
  "language_info": {
   "codemirror_mode": {
    "name": "ipython",
    "version": 3
   },
   "file_extension": ".py",
   "mimetype": "text/x-python",
   "name": "python",
   "nbconvert_exporter": "python",
   "pygments_lexer": "ipython3",
   "version": "3.9.16"
  }
 },
 "nbformat": 4,
 "nbformat_minor": 5
}
