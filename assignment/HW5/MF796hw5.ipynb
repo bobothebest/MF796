{
 "cells": [
  {
   "cell_type": "markdown",
   "id": "0a4585a7-04e1-434c-a94f-6f36fee6611d",
   "metadata": {},
   "source": [
    "## MF 796: Computational Methods of Mathematical Finance\n",
    "Professors Christopher Kelliher and Eugene Sorets Spring 2024"
   ]
  },
  {
   "cell_type": "markdown",
   "id": "0266007a-75cb-4521-b089-2f31fed572f9",
   "metadata": {},
   "source": [
    "### Problem set  5"
   ]
  },
  {
   "cell_type": "markdown",
   "id": "de0c0d35-426c-4e16-aa6a-92cfe123d87e",
   "metadata": {},
   "source": [
    "#### Problem 1: Numerical PDEs:\n",
    "Suppose that the underlying security SPY evolves according to standard geometric brownian motion. Then its derivatives obey the Black-Scholes equation:  \n",
    "$$\n",
    "\\frac{\\partial c}{\\partial t} + \\frac{1}{2}\\sigma^2 s^2 \\frac{\\partial^2 c}{\\partial s^2} + rs \\frac{\\partial c}{\\partial s} - rc = 0 \\quad (1)\n",
    "$$\n",
    "Assume SPY closed at 514 on March 14, 2024 and that the risk-free rate was 5.0%.  \n",
    "We are going to find the price of a call spread with the right of early exercise. The two strikes of the call spread are $K_1 = 525$ and $K_2 = 540$ and the expiry is September 20, 2024."
   ]
  },
  {
   "cell_type": "markdown",
   "id": "462bab59-e8b7-4663-9707-c36690272210",
   "metadata": {},
   "source": [
    "##### (a) Explain why this instrument is not the same as being long an American call with strike 525 and short an American call with strike 540, both with expiry September 20, 2024"
   ]
  },
  {
   "cell_type": "markdown",
   "id": "d1d57f71-790b-4b90-93f5-231b2f077bcf",
   "metadata": {},
   "source": [
    "The difference lies in the early exercise rights.\n",
    "\n",
    "When someone holds a long position in an American call with strike 525 and a short position in an American call with strike 540, each option can be exercised independently by the respective option holders. For example, this means that the short position can be assigned at any time, regardless of exercise the long call or not.  \n",
    "\n",
    "On the other hand, a call spread with the right of early exercise is a single instrument. The holder have the right to exercise the spread as a whole.  "
   ]
  },
  {
   "cell_type": "markdown",
   "id": "9f565a97-b426-4e81-987a-d0dfe30d5e56",
   "metadata": {},
   "source": [
    "#####  (b) Let’s assume that we are not able to find σ by calibrating to the European call spread price and must find it by other means. Find a way to pick the σ, explain why you chose this method, and then find the σ"
   ]
  },
  {
   "cell_type": "markdown",
   "id": "7c4c7424-b6da-4c3b-98a6-a5ebde2f0eef",
   "metadata": {},
   "source": [
    "Use historical volatility as an estimate"
   ]
  },
  {
   "cell_type": "code",
   "execution_count": 100,
   "id": "e49f3eed-926d-43fd-856b-a615e8815b18",
   "metadata": {},
   "outputs": [
    {
     "name": "stderr",
     "output_type": "stream",
     "text": [
      "[*********************100%%**********************]  1 of 1 completed"
     ]
    },
    {
     "name": "stdout",
     "output_type": "stream",
     "text": [
      "historical volatility of SPY: 0.1037\n"
     ]
    },
    {
     "name": "stderr",
     "output_type": "stream",
     "text": [
      "\n"
     ]
    }
   ],
   "source": [
    "import numpy as np\n",
    "import pandas as pd\n",
    "import yfinance as yf\n",
    "\n",
    "symbol = \"SPY\"\n",
    "start_date = \"2023-11-15\"\n",
    "end_date = \"2024-03-14\"\n",
    "\n",
    "stock_data = yf.download(symbol, start=start_date, end=end_date)\n",
    "\n",
    "log_returns = np.log(stock_data[\"Close\"] / stock_data[\"Close\"].shift(1))\n",
    "\n",
    "daily_std = log_returns.std()\n",
    "\n",
    "historical_volatility = daily_std * np.sqrt(252)\n",
    "\n",
    "print(f\"historical volatility of SPY: {historical_volatility:.4f}\")"
   ]
  },
  {
   "cell_type": "markdown",
   "id": "056e3888-dd69-44e3-b0b5-0dbe0a922ca3",
   "metadata": {},
   "source": [
    "##### (c) Set up an explicit Euler discretization of (1). You will need to make decisions about the choice of $s_{max}$, $h_s$, $h_t$ , etc. Please explain how you arrived at each of these choices."
   ]
  },
  {
   "cell_type": "markdown",
   "id": "47ba56e9-e033-4fdd-be47-971bb85fb98a",
   "metadata": {},
   "source": [
    "To set up an explicit Euler discretization of the Black-Scholes equation (1), we need to make decisions about the following parameters:\n",
    "\n",
    "1. $s_{max}$: The maximum stock price in the grid.\n",
    "2. $h_s$: The stock price step size.\n",
    "3. $h_t$: The time step size.\n",
    "   \n",
    "Below is the numerical value of these parameters, and the reason why we choose this number.\n",
    "\n",
    "1. $s_{max}$: We want to choose an $s_{max}$ that is sufficiently large to cover the range of stock prices we are interested in. For this question, since the highest strike price is 540, we can choose $s_{max}$ = 1620.\n",
    "\n",
    "2. $h_s$: The stock price step size should be small enough to provide accurate results but not so small that it significantly increases the computational time. Let's choose $h_s$ = 5.\n",
    "\n",
    "3. $h_t$: The time step size should be chosen to ensure stability and accuracy of the numerical scheme. For the explicit Euler method, the stability condition is  \n",
    "$$ \n",
    "h_t \\leq \\frac{h_s^2}{\\sigma^2s_{max}^2} \n",
    "$$\n",
    "\n",
    "With $h_s$ = 1 and σ = 0.1037, we get $h_t \\leq 0.00003$."
   ]
  },
  {
   "cell_type": "code",
   "execution_count": 73,
   "id": "0f17eacb-e2aa-4ca3-b823-590d42bfc750",
   "metadata": {},
   "outputs": [],
   "source": [
    "S0 = 514.0\n",
    "K1 = 525.0\n",
    "K2 = 540.0\n",
    "sigma = 0.1037  # Volatility\n",
    "smax = 3 * K2\n",
    "r = 0.05  # Annual risk-free rate\n",
    "T = 0.5  # 6 months\n",
    "hs = 5.0  # Spatial step size\n",
    "ht = 0.0001  # Time step size, adjusted for stability and accuracy"
   ]
  },
  {
   "cell_type": "code",
   "execution_count": 88,
   "id": "abec5024-e276-4b52-9c39-38c2064692d1",
   "metadata": {},
   "outputs": [
    {
     "data": {
      "text/plain": [
       "array([[ 9.99993925e-01,  3.03768450e-06,  0.00000000e+00, ...,\n",
       "         0.00000000e+00,  0.00000000e+00,  0.00000000e+00],\n",
       "       [-2.84926200e-06,  9.99990699e-01,  7.15073800e-06, ...,\n",
       "         0.00000000e+00,  0.00000000e+00,  0.00000000e+00],\n",
       "       [ 0.00000000e+00, -2.66083950e-06,  9.99985322e-01, ...,\n",
       "         0.00000000e+00,  0.00000000e+00,  0.00000000e+00],\n",
       "       ...,\n",
       "       [ 0.00000000e+00,  0.00000000e+00,  0.00000000e+00, ...,\n",
       "         8.89187903e-01,  5.62060486e-02,  0.00000000e+00],\n",
       "       [ 0.00000000e+00,  0.00000000e+00,  0.00000000e+00, ...,\n",
       "         5.49442797e-02,  8.88496441e-01,  0.00000000e+00],\n",
       "       [ 0.00000000e+00,  0.00000000e+00,  0.00000000e+00, ...,\n",
       "         0.00000000e+00,  0.00000000e+00,  8.87802828e-01]])"
      ]
     },
     "execution_count": 88,
     "metadata": {},
     "output_type": "execute_result"
    }
   ],
   "source": [
    "S = np.arange(hs, smax + hs, hs)\n",
    "si = S[:-1]  # Exclude the last point to match the intended size\n",
    "M = len(si)  # Correctly adjusting M to match the size of si\n",
    "\n",
    "# Coefficients for the tridiagonal matrix\n",
    "ai = 1 - (sigma**2) * (si**2) * (ht/hs**2) - r * ht\n",
    "li = ((sigma**2) * (si**2)/2) * (ht/hs**2) - (r * si * ht)/(2*hs)\n",
    "ui = ((sigma**2) * (si**2)/2) * (ht/hs**2) + (r * si * ht)/(2*hs)\n",
    "\n",
    "# Initialize the tridiagonal matrix A\n",
    "A = np.diag(ai)\n",
    "\n",
    "# Adjustments for the tridiagonal matrix\n",
    "l = li[1:]\n",
    "u = ui[:-1]\n",
    "for i in range(M-1):  # Adjusting the range to match the dimensions of A\n",
    "    if i < M-2:  # Ensure we don't exceed the bounds\n",
    "        A[i, i+1] = u[i]\n",
    "    if i > 0: \n",
    "        A[i, i-1] = l[i-1]\n",
    "A"
   ]
  },
  {
   "cell_type": "markdown",
   "id": "07f95ccd-b8f7-4a44-851f-c27bf940af61",
   "metadata": {},
   "source": [
    "##### (d) Let A be the update matrix that you created in the previous step. Find out its eigenvalues and check their absolute values. If necessary, make adjustments to $h_s$, $h_t$ , and anything else you need."
   ]
  },
  {
   "cell_type": "code",
   "execution_count": 67,
   "id": "5eaa4fbe-84de-431b-8799-43504dfa3c48",
   "metadata": {},
   "outputs": [],
   "source": [
    "egv,egl = np.linalg.eig(A)"
   ]
  },
  {
   "cell_type": "code",
   "execution_count": 68,
   "id": "68cd6533-4051-496a-8e8a-dd901c53d968",
   "metadata": {},
   "outputs": [
    {
     "data": {
      "text/plain": [
       "array([[ 5.13877331e-13,  4.95169662e-13,  3.81468765e-13, ...,\n",
       "         5.05007509e-23, -5.29210335e-23,  0.00000000e+00],\n",
       "       [-1.07672573e-12, -3.54359409e-12, -1.05359657e-11, ...,\n",
       "         4.75297028e-22, -4.88366217e-22,  0.00000000e+00],\n",
       "       [ 7.52587670e-11,  2.12235575e-10,  5.89493906e-10, ...,\n",
       "        -4.52987840e-22,  4.76349375e-22,  0.00000000e+00],\n",
       "       ...,\n",
       "       [-2.48439834e-07,  2.17212249e-07, -1.89349393e-07, ...,\n",
       "        -2.02474926e-01,  1.79610148e-01,  0.00000000e+00],\n",
       "       [-1.22928846e-07,  1.07452867e-07, -9.36488256e-08, ...,\n",
       "         1.27026690e-01, -1.20263039e-01,  0.00000000e+00],\n",
       "       [ 0.00000000e+00,  0.00000000e+00,  0.00000000e+00, ...,\n",
       "         0.00000000e+00,  0.00000000e+00,  1.00000000e+00]])"
      ]
     },
     "execution_count": 68,
     "metadata": {},
     "output_type": "execute_result"
    }
   ],
   "source": [
    "egl"
   ]
  },
  {
   "cell_type": "code",
   "execution_count": 69,
   "id": "208b588b-e4fa-404f-b7b5-f7304d98b2b7",
   "metadata": {},
   "outputs": [
    {
     "data": {
      "text/plain": [
       "array([0.99953911, 0.9995644 , 0.99958877, 0.99963482, 0.99965654,\n",
       "       0.99969742, 0.99973501, 0.99975261, 0.99976943, 0.99978549,\n",
       "       0.99980079, 0.99981537, 0.99982922, 0.99984237, 0.99985484,\n",
       "       0.99986663, 0.99987776, 0.99988825, 0.99989811, 0.99999108,\n",
       "       0.99998823, 0.99998645, 0.99998571, 0.99998514, 0.99998412,\n",
       "       0.99998268, 0.99998084, 0.9999786 , 0.99997596, 0.99997289,\n",
       "       0.9999694 , 0.99996545, 0.99996105, 0.99995616, 0.99995079,\n",
       "       0.99994491, 0.9999385 , 0.99990735, 0.99993156, 0.99992406,\n",
       "       0.999916  , 0.99930203, 0.9993352 , 0.99936732, 0.99939842,\n",
       "       0.99945762, 0.99948574, 0.9995129 , 0.99961224, 0.99971662,\n",
       "       0.9996774 , 0.99895405, 0.99899731, 0.99926781, 0.99923251,\n",
       "       0.99903938, 0.99919613, 0.99908028, 0.99912003, 0.99915864,\n",
       "       0.99942852, 0.99802023, 0.99815096, 0.99821411, 0.99833607,\n",
       "       0.99839493, 0.99845238, 0.99850846, 0.9988639 , 0.99856318,\n",
       "       0.99861655, 0.99881697, 0.9986686 , 0.99871934, 0.99876879,\n",
       "       0.99727303, 0.99735509, 0.99759124, 0.99766668, 0.99774052,\n",
       "       0.99781277, 0.99788346, 0.99795261, 0.99808633, 0.99827581,\n",
       "       0.99890958, 0.99614939, 0.99625329, 0.99635526, 0.99645531,\n",
       "       0.99655346, 0.99664974, 0.99674416, 0.99751417, 0.99743546,\n",
       "       0.99683676, 0.99718926, 0.99692754, 0.99701654, 0.99710378,\n",
       "       0.99487179, 0.99499857, 0.99536581, 0.99604352, 0.99593567,\n",
       "       0.99548394, 0.99559997, 0.99571391, 0.99582581, 0.9939206 ,\n",
       "       0.99406349, 0.994478  , 0.99512315, 0.99524556, 0.99347738,\n",
       "       0.99362757, 0.9937753 , 0.99420401, 0.99434217, 0.99461153,\n",
       "       0.99474278, 0.9920103 , 0.9921839 , 0.9923548 , 0.9933247 ,\n",
       "       0.992523  , 0.99268854, 0.99285145, 0.99316951, 0.99301177,\n",
       "       0.9911004 , 0.99183394, 0.99128806, 0.9916548 , 0.99147285,\n",
       "       0.99090983, 0.99071633, 0.8313836 , 0.99051986, 0.99011787,\n",
       "       0.98991229, 0.9897036 , 0.98949178, 0.98927678, 0.98905858,\n",
       "       0.98883713, 0.9886124 , 0.98838435, 0.98815295, 0.98791816,\n",
       "       0.98767994, 0.98743825, 0.98719306, 0.98694432, 0.83476052,\n",
       "       0.98669199, 0.97944765, 0.9797994 , 0.98014644, 0.98048882,\n",
       "       0.98564603, 0.98537516, 0.98510046, 0.98482189, 0.98453938,\n",
       "       0.98425292, 0.9808266 , 0.98115982, 0.98396244, 0.9836679 ,\n",
       "       0.98336926, 0.98148855, 0.98181282, 0.9821327 , 0.98244824,\n",
       "       0.9748378 , 0.97525071, 0.97565818, 0.97606028, 0.97645707,\n",
       "       0.97684861, 0.97723496, 0.9776162 , 0.97799237, 0.97909113,\n",
       "       0.98643604, 0.98306647, 0.9859131 , 0.97836355, 0.84109057,\n",
       "       0.84972117, 0.85240582, 0.97268925, 0.97441938, 0.8469458 ,\n",
       "       0.97133038, 0.97178932, 0.97224225, 0.97313039, 0.97356575,\n",
       "       0.85752894, 0.86235952, 0.86467627, 0.86913108, 0.97039417,\n",
       "       0.97086536, 0.87127543, 0.87541169, 0.87740836, 0.87936025,\n",
       "       0.96991674, 0.96943299, 0.96586268, 0.96639306, 0.96691651,\n",
       "       0.96743312, 0.96794299, 0.96894284, 0.88313729, 0.88496589,\n",
       "       0.99032038, 0.96532528, 0.96478077, 0.83799102, 0.88675665,\n",
       "       0.89023029, 0.89191579, 0.89356866, 0.96422905, 0.95954339,\n",
       "       0.96015652, 0.9607616 , 0.96135873, 0.96194803, 0.96367001,\n",
       "       0.89834239, 0.89678095, 0.96252961, 0.95892208, 0.93289238,\n",
       "       0.93387011, 0.93483376, 0.9357836 , 0.93855286, 0.93945   ,\n",
       "       0.94033456, 0.94120677, 0.9376429 , 0.94206683, 0.94291497,\n",
       "       0.95829248, 0.94375139, 0.94619229, 0.94698377, 0.94538985,\n",
       "       0.94776448, 0.9485346 , 0.95765446, 0.9522321 , 0.9529421 ,\n",
       "       0.95501578, 0.95433379, 0.95364261, 0.94929429, 0.89987529,\n",
       "       0.9556887 , 0.95151248, 0.90431134, 0.90573845, 0.907141  ,\n",
       "       0.90851966, 0.91251869, 0.91380803, 0.9319003 , 0.92562973,\n",
       "       0.92671428, 0.9277826 , 0.95004373, 0.95700791, 0.92883505,\n",
       "       0.9684462 , 0.96310357, 0.90138053, 0.91120791, 0.91995095,\n",
       "       0.92112212, 0.92227519, 0.98617643, 0.9563527 , 0.91507644,\n",
       "       0.94457628, 0.93089359, 0.92452861, 0.95078307, 0.91755256,\n",
       "       0.91876124, 0.82784107, 0.84407194, 0.85997844, 0.8812693 ,\n",
       "       0.98275948, 0.97872978, 0.97399539, 0.888511  , 0.90285896,\n",
       "       0.90987509, 0.91632445, 0.92341056, 0.92987194, 0.82410868,\n",
       "       0.85500646, 0.87336814, 0.9367199 , 0.89519003, 0.82015485,\n",
       "       0.86693235, 0.7865806 , 0.815937  , 0.81139501, 0.79454587,\n",
       "       0.80091769, 0.80643839, 0.88780283])"
      ]
     },
     "execution_count": 69,
     "metadata": {},
     "output_type": "execute_result"
    }
   ],
   "source": [
    "egv"
   ]
  },
  {
   "cell_type": "code",
   "execution_count": 71,
   "id": "acd6a187-00a3-478b-847e-d5b1d11eb26c",
   "metadata": {},
   "outputs": [
    {
     "data": {
      "text/plain": [
       "False"
      ]
     },
     "execution_count": 71,
     "metadata": {},
     "output_type": "execute_result"
    }
   ],
   "source": [
    "check = np.any(np.abs(egv) > 1)\n",
    "check"
   ]
  },
  {
   "cell_type": "markdown",
   "id": "3b8777f8-bcd3-4d5e-a943-3cc8dbbc4107",
   "metadata": {},
   "source": [
    "All the eigen value is less than 1, which means the stability condition is met"
   ]
  },
  {
   "cell_type": "markdown",
   "id": "eb8ef9c3-f1b0-4942-836a-c07b37bbd2d0",
   "metadata": {},
   "source": [
    "##### (e) Apply your discretization scheme to find today’s price of the call spread without the right of early exercise. The scheme will produce a whole vector of prices at time 0. Explain how you chose the one for today’s price."
   ]
  },
  {
   "cell_type": "code",
   "execution_count": 96,
   "id": "2fad1873-8bd9-47ce-b937-35724798f5ab",
   "metadata": {},
   "outputs": [
    {
     "name": "stdout",
     "output_type": "stream",
     "text": [
      "6.261705883665412\n"
     ]
    }
   ],
   "source": [
    "def European_call_spread_price(smax, sigma, r, K1, K2, T, S0, hs, ht, M, N):\n",
    "    # Grid setup for the underlying asset\n",
    "    S = np.arange(0, smax + hs, hs)\n",
    "    si = S[:-1]\n",
    "\n",
    "    # Coefficients for the finite difference scheme\n",
    "    ai = 1 - (sigma**2) * (si**2) * (ht/hs**2) - r * ht\n",
    "    li = ((sigma**2) * (si**2) / 2) * (ht/hs**2) - (r * si * ht / (2 * hs))\n",
    "    ui = ((sigma**2) * (si**2) / 2) * (ht/hs**2) + (r * si * ht / (2 * hs))\n",
    "\n",
    "    # Construction of the tridiagonal matrix\n",
    "    A = np.diag(ai, 0) + np.diag(li[1:], -1) + np.diag(ui[:-1], 1)\n",
    "    C = np.zeros([M+1 , N])\n",
    "    pl = np.maximum(si - K1, 0)  # Payoff for a call option with strike K1\n",
    "    ps = np.maximum(si - K2, 0)  # Payoff for a call option with strike K2\n",
    "    C[:, -1] = pl - ps  # Initial condition: max payoff at maturity\n",
    "\n",
    "    for j in range(N, 1, -1):\n",
    "        tj = ht * j\n",
    "        bj = ui[-1] * (K2 - K1) * np.exp(-r * (T - tj))  # Boundary condition\n",
    "        C[:, j - 2] = A @ C[:, j - 1]  # Propagate the solution backwards\n",
    "        C[-1, j - 2] += bj  # Adjust the last spatial node with the boundary condition\n",
    "\n",
    "    return np.interp(S0, si, C[:, 0])\n",
    "\n",
    "S0 = 514.0\n",
    "K1 = 525.0\n",
    "K2 = 540.0\n",
    "T = 0.5\n",
    "r = 0.05\n",
    "sigma = 0.1037\n",
    "smax = 3 * K2\n",
    "M = 275\n",
    "N = 1000\n",
    "\n",
    "hs = smax/M\n",
    "ht = T/N\n",
    "\n",
    "p1 = European_call_spread_price(smax, sigma, r, K1, K2, T, S0, hs, ht, M, N)\n",
    "print(p1)\n"
   ]
  },
  {
   "cell_type": "markdown",
   "id": "8a257890-359c-40be-ab90-5faa188ade48",
   "metadata": {},
   "source": [
    "##### (f) Modify your code in the previous step to calculate the price of the call spread with the right of early exercise. What is the price?"
   ]
  },
  {
   "cell_type": "code",
   "execution_count": 97,
   "id": "ecd8dc9f-17a6-4fab-bb92-38f12198e711",
   "metadata": {},
   "outputs": [
    {
     "name": "stdout",
     "output_type": "stream",
     "text": [
      "8.75836431848145\n"
     ]
    }
   ],
   "source": [
    "def American_call_spread_price(smax, sigma, r, K1, K2, T, S0, hs, ht, M, N):\n",
    "    # Grid setup for the underlying asset\n",
    "    S = np.arange(0, smax + hs, hs)\n",
    "    si = S[:-1]\n",
    "\n",
    "    # Coefficients for the finite difference scheme\n",
    "    ai = 1 - (sigma**2) * (si**2) * (ht/hs**2) - r * ht\n",
    "    li = ((sigma**2) * (si**2) / 2) * (ht/hs**2) - (r * si * ht / (2 * hs))\n",
    "    ui = ((sigma**2) * (si**2) / 2) * (ht/hs**2) + (r * si * ht / (2 * hs))\n",
    "\n",
    "    # Construction of the tridiagonal matrix\n",
    "    A = np.diag(ai, 0) + np.diag(li[1:], -1) + np.diag(ui[:-1], 1)\n",
    "    C = np.zeros([M+1 , N])\n",
    "    pl = np.maximum(si - K1, 0)  # Payoff for a call option with strike K1\n",
    "    ps = np.maximum(si - K2, 0)  # Payoff for a call option with strike K2\n",
    "    C[:, -1] = pl - ps  # Initial condition: max payoff at maturity\n",
    "\n",
    "    for j in range(N, 1, -1):\n",
    "        tj = ht * j\n",
    "        bj = ui[-1] * (K2 - K1) * np.exp(-r * (T - tj))  # Boundary condition\n",
    "        C[:, j - 2] = A @ C[:, j - 1]  # Propagate the solution backwards\n",
    "        C[-1, j - 2] += bj  # Adjust the last spatial node with the boundary condition\n",
    "        C[:,j-2] = np.max([C[:,j-2], pl-ps], axis=0)\n",
    "\n",
    "    return np.interp(S0, si, C[:, 0])\n",
    "\n",
    "p2 = American_call_spread_price(smax, sigma, r, K1, K2, T, S0, hs, ht, M, N)\n",
    "print(p2)"
   ]
  },
  {
   "cell_type": "markdown",
   "id": "1fef9573-fd80-4a73-a3ef-3cbdfdbcdd0a",
   "metadata": {},
   "source": [
    "##### (g) Calculate the early exercise premium as the difference between the American and European call spreads. Is it reasonable?"
   ]
  },
  {
   "cell_type": "code",
   "execution_count": 99,
   "id": "5621bd3d-489e-473b-9fac-4ab45cead38e",
   "metadata": {},
   "outputs": [
    {
     "data": {
      "text/plain": [
       "2.4966584348160374"
      ]
     },
     "execution_count": 99,
     "metadata": {},
     "output_type": "execute_result"
    }
   ],
   "source": [
    "diff = p2-p1\n",
    "diff"
   ]
  },
  {
   "cell_type": "markdown",
   "id": "9b55a4b9-26bb-4e2e-b487-aee7c634475f",
   "metadata": {},
   "source": [
    "The early exercise premium is about: 2.50. I think this result is reasonable. American call spreads allow people early exercise, so it is more expensive."
   ]
  },
  {
   "cell_type": "code",
   "execution_count": null,
   "id": "53c0b017-3fd3-46f5-90a4-cd6e07942f57",
   "metadata": {},
   "outputs": [],
   "source": []
  }
 ],
 "metadata": {
  "kernelspec": {
   "display_name": "Python 3 (ipykernel)",
   "language": "python",
   "name": "python3"
  },
  "language_info": {
   "codemirror_mode": {
    "name": "ipython",
    "version": 3
   },
   "file_extension": ".py",
   "mimetype": "text/x-python",
   "name": "python",
   "nbconvert_exporter": "python",
   "pygments_lexer": "ipython3",
   "version": "3.9.16"
  }
 },
 "nbformat": 4,
 "nbformat_minor": 5
}
